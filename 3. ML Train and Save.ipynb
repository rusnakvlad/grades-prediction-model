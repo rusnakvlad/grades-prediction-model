{
 "cells": [
  {
   "cell_type": "markdown",
   "metadata": {},
   "source": [
    "#### Logging Module"
   ]
  },
  {
   "cell_type": "code",
   "execution_count": 56,
   "metadata": {},
   "outputs": [],
   "source": [
    "import logging\n",
    "import os\n",
    "import sys\n",
    "from datetime import datetime\n",
    "\n",
    "LOG_FILE = f\"{datetime.now().strftime('%m_%d_%Y_%H_%M_%S')}.log\"\n",
    "logs_path = os.path.join(os.getcwd(),\"logs\",LOG_FILE)\n",
    "os.makedirs(logs_path, exist_ok=True)\n",
    "\n",
    "LOG_FILE_PATH = os.path.join(logs_path,LOG_FILE)\n",
    "\n",
    "logging.basicConfig(\n",
    "    filename= LOG_FILE_PATH,\n",
    "    format= \"[ %(asctime)s ] %(lineno)d %(name)s - %(levelname)s - %(message)s\",\n",
    "    level=logging.INFO\n",
    ")\n"
   ]
  },
  {
   "cell_type": "markdown",
   "metadata": {},
   "source": [
    "### Exception Module"
   ]
  },
  {
   "cell_type": "code",
   "execution_count": 57,
   "metadata": {},
   "outputs": [],
   "source": [
    "def error_message_details(error, error_detail:sys):\n",
    "    _,_,exc_tb = error_detail.exc_info()\n",
    "    file_name = exc_tb.tb_frame.f_code.co_filename\n",
    "    error_message = \"Error Occured in Python Script name [{0}] line number [{1}] error message [{2}]\".format(\n",
    "        file_name,exc_tb.tb_lineno, str(error)\n",
    "    )\n",
    "\n",
    "    return error_message\n",
    "\n",
    "class CustomException(Exception):\n",
    "    def __init__(self, error_message, error_detail:sys):\n",
    "        super().__init__(error_message)\n",
    "        self.error_message = error_message_details(error_message,error_detail=error_detail)\n",
    "\n",
    "    def __str__(self):\n",
    "        return self.error_message"
   ]
  },
  {
   "cell_type": "markdown",
   "metadata": {},
   "source": [
    "#### Utils Module"
   ]
  },
  {
   "cell_type": "code",
   "execution_count": 58,
   "metadata": {},
   "outputs": [],
   "source": [
    "import os\n",
    "import sys\n",
    "\n",
    "import numpy as np \n",
    "import pandas as pd\n",
    "import dill\n",
    "from sklearn.model_selection import GridSearchCV\n",
    "from sklearn.metrics import r2_score\n",
    "\n",
    "def save_object(file_path,obj):\n",
    "    try:\n",
    "        dir_path = os.path.dirname(file_path)\n",
    "\n",
    "        os.makedirs(dir_path, exist_ok=True)\n",
    "\n",
    "        with open(file_path, \"wb\") as file_obj:\n",
    "            dill.dump(obj,file_obj)\n",
    "\n",
    "    except Exception as e:\n",
    "        raise CustomException(e,sys)\n",
    "    \n",
    "def evaluate_models(X_train,y_train,X_test,y_test,models,param):\n",
    "    try:\n",
    "        report = {}\n",
    "        for i in range(len(list(models))):\n",
    "            model = list(models.values())[i]\n",
    "            para =  param[list(models.keys())[i]]\n",
    "\n",
    "            gs = GridSearchCV(model,para,cv=3)\n",
    "            gs.fit(X_train,y_train)\n",
    "\n",
    "            model.set_params(**gs.best_params_)\n",
    "            model.fit(X_train,y_train)\n",
    "    \n",
    "\n",
    "            y_train_pred = model.predict(X_train)\n",
    "\n",
    "            y_test_pred = model.predict(X_test)\n",
    "\n",
    "            train_model_score = r2_score(y_train,y_train_pred)\n",
    "            test_model_score = r2_score(y_test,y_test_pred)\n",
    "\n",
    "            logging.info(f\"{list(models.keys())[i]},Train model score :{train_model_score}, Test model score: {test_model_score}\")\n",
    "            \n",
    "            report[list(models.keys())[i]] = test_model_score\n",
    "\n",
    "        return report\n",
    "    except Exception as e:\n",
    "        raise CustomException(e,sys)\n",
    "def load_object(file_path):\n",
    "    try:\n",
    "        with open(file_path, \"rb\") as file_obj:\n",
    "            return dill.load(file_obj)\n",
    "\n",
    "    except Exception as e:\n",
    "        raise CustomException(e, sys)"
   ]
  },
  {
   "cell_type": "markdown",
   "metadata": {},
   "source": [
    "#### Import Data and Split"
   ]
  },
  {
   "cell_type": "code",
   "execution_count": 59,
   "metadata": {},
   "outputs": [],
   "source": [
    "import os\n",
    "import sys\n",
    "import pandas as pd \n",
    "\n",
    "from sklearn.model_selection import train_test_split\n",
    "from dataclasses import dataclass  # to directly define class variable without __init__ using decorator @dataclass\n",
    "\n",
    "class DataIngestionConfig:\n",
    "    # if only defining variables then its okay to use dataclass, if have methods prefer init approach\n",
    "    train_data_path: str=os.path.join('artifacts','train.csv')\n",
    "    test_data_path: str=os.path.join('artifacts','test.csv')\n",
    "    raw_data_path: str=os.path.join('artifacts','data.csv')\n",
    "ingestion_config = DataIngestionConfig()"
   ]
  },
  {
   "cell_type": "code",
   "execution_count": 60,
   "metadata": {},
   "outputs": [
    {
     "data": {
      "text/html": [
       "<div>\n",
       "<style scoped>\n",
       "    .dataframe tbody tr th:only-of-type {\n",
       "        vertical-align: middle;\n",
       "    }\n",
       "\n",
       "    .dataframe tbody tr th {\n",
       "        vertical-align: top;\n",
       "    }\n",
       "\n",
       "    .dataframe thead th {\n",
       "        text-align: right;\n",
       "    }\n",
       "</style>\n",
       "<table border=\"1\" class=\"dataframe\">\n",
       "  <thead>\n",
       "    <tr style=\"text-align: right;\">\n",
       "      <th></th>\n",
       "      <th>gender</th>\n",
       "      <th>race_ethnicity</th>\n",
       "      <th>parental_level_of_education</th>\n",
       "      <th>lunch</th>\n",
       "      <th>test_preparation_course</th>\n",
       "      <th>math_score</th>\n",
       "      <th>reading_score</th>\n",
       "      <th>writing_score</th>\n",
       "    </tr>\n",
       "  </thead>\n",
       "  <tbody>\n",
       "    <tr>\n",
       "      <th>0</th>\n",
       "      <td>female</td>\n",
       "      <td>group B</td>\n",
       "      <td>bachelor's degree</td>\n",
       "      <td>standard</td>\n",
       "      <td>none</td>\n",
       "      <td>72</td>\n",
       "      <td>72</td>\n",
       "      <td>74</td>\n",
       "    </tr>\n",
       "    <tr>\n",
       "      <th>1</th>\n",
       "      <td>female</td>\n",
       "      <td>group C</td>\n",
       "      <td>some college</td>\n",
       "      <td>standard</td>\n",
       "      <td>completed</td>\n",
       "      <td>69</td>\n",
       "      <td>90</td>\n",
       "      <td>88</td>\n",
       "    </tr>\n",
       "    <tr>\n",
       "      <th>2</th>\n",
       "      <td>female</td>\n",
       "      <td>group B</td>\n",
       "      <td>master's degree</td>\n",
       "      <td>standard</td>\n",
       "      <td>none</td>\n",
       "      <td>90</td>\n",
       "      <td>95</td>\n",
       "      <td>93</td>\n",
       "    </tr>\n",
       "    <tr>\n",
       "      <th>3</th>\n",
       "      <td>male</td>\n",
       "      <td>group A</td>\n",
       "      <td>associate's degree</td>\n",
       "      <td>free/reduced</td>\n",
       "      <td>none</td>\n",
       "      <td>47</td>\n",
       "      <td>57</td>\n",
       "      <td>44</td>\n",
       "    </tr>\n",
       "    <tr>\n",
       "      <th>4</th>\n",
       "      <td>male</td>\n",
       "      <td>group C</td>\n",
       "      <td>some college</td>\n",
       "      <td>standard</td>\n",
       "      <td>none</td>\n",
       "      <td>76</td>\n",
       "      <td>78</td>\n",
       "      <td>75</td>\n",
       "    </tr>\n",
       "  </tbody>\n",
       "</table>\n",
       "</div>"
      ],
      "text/plain": [
       "   gender race_ethnicity  ... reading_score writing_score\n",
       "0  female        group B  ...            72            74\n",
       "1  female        group C  ...            90            88\n",
       "2  female        group B  ...            95            93\n",
       "3    male        group A  ...            57            44\n",
       "4    male        group C  ...            78            75\n",
       "\n",
       "[5 rows x 8 columns]"
      ]
     },
     "execution_count": 60,
     "metadata": {},
     "output_type": "execute_result"
    }
   ],
   "source": [
    "df = pd.read_csv('../Notebook/data/stud.csv')\n",
    "logging.info('Read the dataset as dataframe')\n",
    "df.head()"
   ]
  },
  {
   "cell_type": "code",
   "execution_count": 61,
   "metadata": {},
   "outputs": [],
   "source": [
    "os.makedirs(os.path.dirname(ingestion_config.train_data_path),exist_ok=True)"
   ]
  },
  {
   "cell_type": "code",
   "execution_count": 62,
   "metadata": {},
   "outputs": [],
   "source": [
    "df.to_csv(ingestion_config.raw_data_path,index=False, header=True)"
   ]
  },
  {
   "cell_type": "code",
   "execution_count": 63,
   "metadata": {},
   "outputs": [],
   "source": [
    "logging.info(\"Train test split initiated\")\n",
    "train_set,test_set = train_test_split(df,test_size=0.2,random_state=42)"
   ]
  },
  {
   "cell_type": "code",
   "execution_count": 64,
   "metadata": {},
   "outputs": [],
   "source": [
    "train_set.to_csv(ingestion_config.train_data_path, index = False, header = True)\n",
    "test_set.to_csv(ingestion_config.test_data_path, index = False, header = True)\n",
    "train_path = ingestion_config.train_data_path\n",
    "test_path = ingestion_config.test_data_path\n",
    "logging.info(\"Ingestion of data is completed\")"
   ]
  },
  {
   "cell_type": "markdown",
   "metadata": {},
   "source": [
    "#### Transform ans Split Data"
   ]
  },
  {
   "cell_type": "code",
   "execution_count": 65,
   "metadata": {},
   "outputs": [],
   "source": [
    "class DataTransformationConfig:\n",
    "    preprocessor_obj_file_path = os.path.join('artifacts', 'preprocessor.pkl')"
   ]
  },
  {
   "cell_type": "code",
   "execution_count": 66,
   "metadata": {},
   "outputs": [],
   "source": [
    "data_transformation_config = DataTransformationConfig()"
   ]
  },
  {
   "cell_type": "code",
   "execution_count": 67,
   "metadata": {},
   "outputs": [],
   "source": [
    "from sklearn.compose import ColumnTransformer  # create pipeline for ohc or standardscaling, if want to use in form of pipeline\n",
    "from sklearn.impute import SimpleImputer # for missing data\n",
    "from sklearn.pipeline import Pipeline\n",
    "from sklearn.preprocessing import OneHotEncoder, StandardScaler\n",
    "\n",
    "def get_data_transformer_object():\n",
    "\n",
    "        '''\n",
    "        This fuction is resposible for Data Transformation\n",
    "        \n",
    "        '''\n",
    "\n",
    "        try:\n",
    "            numerical_columns = [\"writing_score\",\"reading_score\"]\n",
    "            categorical_columns = [\n",
    "                \"gender\",\n",
    "                \"race_ethnicity\",\n",
    "                \"parental_level_of_education\",\n",
    "                \"lunch\",\n",
    "                \"test_preparation_course\",\n",
    "            ]\n",
    "\n",
    "            num_pipeline = Pipeline(\n",
    "                steps = [\n",
    "                    (\"imputer\", SimpleImputer(strategy=\"median\")),\n",
    "                    (\"scaler\", StandardScaler())\n",
    "                ]\n",
    "            )\n",
    "            cat_pipeline = Pipeline(\n",
    "                steps=[\n",
    "                    (\"imputer\", SimpleImputer(strategy=\"most_frequent\")), # replacing with mode\n",
    "                    (\"one_hot_encoder\",OneHotEncoder()),\n",
    "                    (\"scaler\",StandardScaler(with_mean=False))\n",
    "                ]\n",
    "            )\n",
    "\n",
    "            logging.info(f\"Categorical Columns: {categorical_columns}\")\n",
    "            logging.info(f\"Numerical Columns: {numerical_columns}\")\n",
    "            \n",
    "            preprocessor = ColumnTransformer(\n",
    "                [\n",
    "                    (\"num_pipeline\", num_pipeline,numerical_columns),\n",
    "                    (\"cat_pipeline\",cat_pipeline,categorical_columns)\n",
    "                ]\n",
    "            )\n",
    "            return preprocessor\n",
    "\n",
    "        except Exception as e:\n",
    "            raise CustomException(e,sys)"
   ]
  },
  {
   "cell_type": "code",
   "execution_count": 68,
   "metadata": {},
   "outputs": [],
   "source": [
    "train_df=pd.read_csv(train_path)\n",
    "test_df=pd.read_csv(test_path)\n",
    "\n",
    "logging.info(\"Read train and test data completed\")\n",
    "logging.info(\"Obtaining preprocessing object\")"
   ]
  },
  {
   "cell_type": "code",
   "execution_count": 69,
   "metadata": {},
   "outputs": [],
   "source": [
    "preprocessing_obj = get_data_transformer_object()"
   ]
  },
  {
   "cell_type": "code",
   "execution_count": 70,
   "metadata": {},
   "outputs": [],
   "source": [
    "target_column_name = \"math_score\"\n",
    "numerical_columns = [\"writing_score\", \"reading_score\"]\n",
    "\n",
    "input_feature_train_df = train_df.drop(columns=[target_column_name],axis=1)\n",
    "target_feature_train_df = train_df[target_column_name]\n",
    "\n",
    "input_feature_test_df = test_df.drop(columns=[target_column_name],axis=1)\n",
    "target_feature_test_df = test_df[target_column_name]\n",
    "\n",
    "logging.info(f\"Applying preprocesing object on training and testing dataframe\")"
   ]
  },
  {
   "cell_type": "code",
   "execution_count": 71,
   "metadata": {},
   "outputs": [],
   "source": [
    "input_feature_train_arr = preprocessing_obj.fit_transform(input_feature_train_df)\n",
    "input_feature_test_arr = preprocessing_obj.transform(input_feature_test_df)"
   ]
  },
  {
   "cell_type": "code",
   "execution_count": 76,
   "metadata": {},
   "outputs": [],
   "source": [
    "train_array = np.c_[\n",
    "    input_feature_train_arr,np.array(target_feature_train_df)\n",
    "]\n",
    "\n",
    "test_array = np.c_[\n",
    "    input_feature_test_arr,np.array(target_feature_test_df)\n",
    "]\n",
    "\n",
    "logging.info(f\"Saved preprocessing object\")\n",
    "\n",
    "save_object(\n",
    "    file_path = data_transformation_config.preprocessor_obj_file_path,obj=preprocessing_obj\n",
    ")"
   ]
  },
  {
   "cell_type": "markdown",
   "metadata": {},
   "source": [
    "#### Model Training"
   ]
  },
  {
   "cell_type": "code",
   "execution_count": 77,
   "metadata": {},
   "outputs": [],
   "source": [
    "from catboost import CatBoostRegressor\n",
    "from sklearn.ensemble import (AdaBoostRegressor,GradientBoostingRegressor,RandomForestRegressor)\n",
    "from sklearn.linear_model import LinearRegression\n",
    "from sklearn.metrics import r2_score\n",
    "from sklearn.neighbors import KNeighborsRegressor\n",
    "from sklearn.tree import DecisionTreeRegressor\n",
    "from xgboost import XGBRegressor"
   ]
  },
  {
   "cell_type": "code",
   "execution_count": 78,
   "metadata": {},
   "outputs": [],
   "source": [
    "class ModelTrainerConfig:\n",
    "    trained_model_file_path = os.path.join(\"artifacts\", \"model.pkl\")"
   ]
  },
  {
   "cell_type": "code",
   "execution_count": 88,
   "metadata": {},
   "outputs": [],
   "source": [
    "model_trainer_config = ModelTrainerConfig()"
   ]
  },
  {
   "cell_type": "code",
   "execution_count": 79,
   "metadata": {},
   "outputs": [],
   "source": [
    "logging.info(\"Split training and test input data\")\n",
    "X_train,y_train,X_test,y_test =(\n",
    "    train_array[:,:-1],\n",
    "    train_array[:,-1],\n",
    "    test_array[:,:-1],\n",
    "    test_array[:,-1]\n",
    "    )\n",
    "models = {\n",
    "    \"Random Forest\": RandomForestRegressor(),\n",
    "    \"Decision Tree\": DecisionTreeRegressor(),\n",
    "    \"Gradient Boosting\": GradientBoostingRegressor(),\n",
    "    \"Linear Regression\": LinearRegression(),\n",
    "    \"XGBRegressor\": XGBRegressor(),\n",
    "    \"CatBoosting Regressor\": CatBoostRegressor(verbose=False),\n",
    "    \"AdaBoost Regressor\": AdaBoostRegressor(),\n",
    "}"
   ]
  },
  {
   "cell_type": "code",
   "execution_count": 80,
   "metadata": {},
   "outputs": [],
   "source": [
    "# Best way is to use additional config file, yaml file and from that can read hyperparameters\n",
    "params={\n",
    "    \"Decision Tree\": {\n",
    "        'criterion':['squared_error', 'friedman_mse', 'absolute_error', 'poisson'],\n",
    "        # 'splitter':['best','random'],\n",
    "        # 'max_features':['sqrt','log2'],\n",
    "    },\n",
    "    \"Random Forest\":{\n",
    "        # 'criterion':['squared_error', 'friedman_mse', 'absolute_error', 'poisson'],\n",
    "        \n",
    "        # 'max_features':['sqrt','log2',None],\n",
    "        'n_estimators': [8,16,32,64,128,256]\n",
    "    },\n",
    "    \"Gradient Boosting\":{\n",
    "        # 'loss':['squared_error', 'huber', 'absolute_error', 'quantile'],\n",
    "        'learning_rate':[.1,.01,.05,.001],\n",
    "        'subsample':[0.6,0.7,0.75,0.8,0.85,0.9],\n",
    "        # 'criterion':['squared_error', 'friedman_mse'],\n",
    "        # 'max_features':['auto','sqrt','log2'],\n",
    "        'n_estimators': [8,16,32,64,128,256]\n",
    "    },\n",
    "    \"Linear Regression\":{},\n",
    "    \"XGBRegressor\":{\n",
    "        'learning_rate':[.1,.01,.05,.001],\n",
    "        'n_estimators': [8,16,32,64,128,256]\n",
    "    },\n",
    "    \"CatBoosting Regressor\":{\n",
    "        'depth': [6,8,10],\n",
    "        'learning_rate': [0.01, 0.05, 0.1],\n",
    "        'iterations': [30, 50, 100]\n",
    "    },\n",
    "    \"AdaBoost Regressor\":{\n",
    "        'learning_rate':[.1,.01,0.5,.001],\n",
    "        # 'loss':['linear','square','exponential'],\n",
    "        'n_estimators': [8,16,32,64,128,256]\n",
    "    }\n",
    "    \n",
    "}        "
   ]
  },
  {
   "cell_type": "code",
   "execution_count": 81,
   "metadata": {},
   "outputs": [],
   "source": [
    "model_report:dict=evaluate_models(X_train=X_train,y_train=y_train,X_test=X_test,y_test=y_test,\n",
    "                                             models=models,param=params)"
   ]
  },
  {
   "cell_type": "code",
   "execution_count": 82,
   "metadata": {},
   "outputs": [
    {
     "ename": "TypeError",
     "evalue": "can only concatenate str (not \"numpy.float64\") to str",
     "output_type": "error",
     "traceback": [
      "\u001b[1;31m---------------------------------------------------------------------------\u001b[0m",
      "\u001b[1;31mTypeError\u001b[0m                                 Traceback (most recent call last)",
      "Cell \u001b[1;32mIn[82], line 3\u001b[0m\n\u001b[0;32m      1\u001b[0m \u001b[38;5;66;03m# to get best model score from dict\u001b[39;00m\n\u001b[0;32m      2\u001b[0m best_model_score \u001b[38;5;241m=\u001b[39m \u001b[38;5;28mmax\u001b[39m(\u001b[38;5;28msorted\u001b[39m(model_report\u001b[38;5;241m.\u001b[39mvalues()))\n\u001b[1;32m----> 3\u001b[0m \u001b[38;5;28mprint\u001b[39m(\u001b[38;5;124;43m\"\u001b[39;49m\u001b[38;5;124;43mBest score: \u001b[39;49m\u001b[38;5;124;43m\"\u001b[39;49m\u001b[43m \u001b[49m\u001b[38;5;241;43m+\u001b[39;49m\u001b[43m \u001b[49m\u001b[43mbest_model_score\u001b[49m)\n",
      "\u001b[1;31mTypeError\u001b[0m: can only concatenate str (not \"numpy.float64\") to str"
     ]
    }
   ],
   "source": [
    "# to get best model score from dict\n",
    "best_model_score = max(sorted(model_report.values()))"
   ]
  },
  {
   "cell_type": "code",
   "execution_count": 83,
   "metadata": {},
   "outputs": [
    {
     "name": "stdout",
     "output_type": "stream",
     "text": [
      "Best score: 0.8795158595242263\n"
     ]
    }
   ],
   "source": [
    "print(\"Best score: \" + str(best_model_score))"
   ]
  },
  {
   "cell_type": "code",
   "execution_count": 84,
   "metadata": {},
   "outputs": [
    {
     "name": "stdout",
     "output_type": "stream",
     "text": [
      "Linear Regression\n"
     ]
    }
   ],
   "source": [
    "# best model score name\n",
    "best_model_name = list(model_report.keys())[list(model_report.values()).index(best_model_score)]\n",
    "\n",
    "best_model = models[best_model_name]\n",
    "\n",
    "print(best_model_name)"
   ]
  },
  {
   "cell_type": "code",
   "execution_count": 85,
   "metadata": {},
   "outputs": [],
   "source": [
    "if best_model_score<0.6:\n",
    "    raise CustomException(\"No best model found\")\n",
    "logging.info(f\"Best found model on training and testing dataset\")"
   ]
  },
  {
   "cell_type": "code",
   "execution_count": 89,
   "metadata": {},
   "outputs": [],
   "source": [
    "save_object(\n",
    "    file_path=model_trainer_config.trained_model_file_path,\n",
    "    obj=best_model\n",
    ")"
   ]
  },
  {
   "cell_type": "code",
   "execution_count": 90,
   "metadata": {},
   "outputs": [],
   "source": [
    "predicted = best_model.predict(X_test)"
   ]
  },
  {
   "cell_type": "code",
   "execution_count": 91,
   "metadata": {},
   "outputs": [
    {
     "name": "stdout",
     "output_type": "stream",
     "text": [
      "0.8795158595242263\n"
     ]
    }
   ],
   "source": [
    "r2_square = r2_score(y_test,predicted)\n",
    "print(r2_square)"
   ]
  }
 ],
 "metadata": {
  "kernelspec": {
   "display_name": "Python 3",
   "language": "python",
   "name": "python3"
  },
  "language_info": {
   "codemirror_mode": {
    "name": "ipython",
    "version": 3
   },
   "file_extension": ".py",
   "mimetype": "text/x-python",
   "name": "python",
   "nbconvert_exporter": "python",
   "pygments_lexer": "ipython3",
   "version": "3.8.0"
  }
 },
 "nbformat": 4,
 "nbformat_minor": 2
}
